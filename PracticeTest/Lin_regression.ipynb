{
 "cells": [
  {
   "cell_type": "code",
   "execution_count": 6,
   "id": "35c290e2",
   "metadata": {},
   "outputs": [
    {
     "name": "stdout",
     "output_type": "stream",
     "text": [
      "Gradient: tensor(4.)\n"
     ]
    }
   ],
   "source": [
    "import torch\n",
    "\n",
    "# Define a tensor with gradient tracking\n",
    "x = torch.tensor(2.0, requires_grad=True)\n",
    "\n",
    "# Define a simple function: f(x) = x^2\n",
    "y = x ** 2  \n",
    "\n",
    "# Compute the gradient (dy/dx)\n",
    "y.backward()\n",
    "\n",
    "# Print the computed gradient (dy/dx = 2x)\n",
    "print(\"Gradient:\", x.grad)  # Output: tensor(4.)"
   ]
  },
  {
   "cell_type": "code",
   "execution_count": 7,
   "id": "eaf4bd9b",
   "metadata": {},
   "outputs": [
    {
     "name": "stdout",
     "output_type": "stream",
     "text": [
      "torch.Size([1, 1])\n"
     ]
    }
   ],
   "source": [
    "import torch\n",
    "import torch.nn as nn\n",
    "\n",
    "# Define a linear layer for 128x128 RGB images\n",
    "model = nn.Linear(128 * 128 * 3, 1)\n",
    "\n",
    "# Create a dummy input tensor (batch_size=1, 128x128 RGB image)\n",
    "x = torch.randn(1, 128 * 128 * 3)  # Random input image (flattened)\n",
    "\n",
    "# Forward pass\n",
    "output = model(x)\n",
    "print(output.shape)  # Output: torch.Size([1, 1])"
   ]
  }
 ],
 "metadata": {
  "kernelspec": {
   "display_name": "Python 3",
   "language": "python",
   "name": "python3"
  },
  "language_info": {
   "codemirror_mode": {
    "name": "ipython",
    "version": 3
   },
   "file_extension": ".py",
   "mimetype": "text/x-python",
   "name": "python",
   "nbconvert_exporter": "python",
   "pygments_lexer": "ipython3",
   "version": "3.12.8"
  }
 },
 "nbformat": 4,
 "nbformat_minor": 5
}
